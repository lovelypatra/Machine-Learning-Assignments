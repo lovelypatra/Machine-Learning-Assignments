{
 "cells": [
  {
   "cell_type": "markdown",
   "id": "4c78db04",
   "metadata": {},
   "source": [
    "# 1. What exactly is a feature? Give an example to illustrate your point ?\n",
    "Ans: Features are the basic building blocks of datasets. The quality of the features in your dataset has a major impact on the quality of the insights you will gain when you use that dataset for machine learning.\n",
    "\n",
    "Additionally, different business problems within the same industry do not necessarily require the same features, which is why it is important to have a strong understanding of the business goals of your data science project.\n"
   ]
  },
  {
   "cell_type": "markdown",
   "id": "bb36ed07",
   "metadata": {},
   "source": [
    "# 2. What are the various circumstances in which feature construction is required ?\n",
    "Ans: The features in your data will directly influence the predictive models you use and the results you can achieve. Your results are dependent on many inter-dependent properties. You need great features that describe the structures inherent in your data. Better features means flexibility.\n"
   ]
  },
  {
   "cell_type": "markdown",
   "id": "ae6e5ce5",
   "metadata": {},
   "source": [
    "# 3. Describe how nominal variables are encoded ?\n",
    "Ans: Nominal data is made of discrete values with no numerical relationship between the different categories — mean and median are meaningless. Animal species is one example. For example, pig is not higher than bird and lower than fish.\n"
   ]
  },
  {
   "cell_type": "markdown",
   "id": "819d8400",
   "metadata": {},
   "source": [
    "# 4. Describe how numeric features are converted to categorical features ?\n",
    "Ans: Converting categorical features into numeric features using domain knowledge. For example, we are given a list of countries and say we know the distance to these countries from India then we can replace it with distance from India. So, every country can be represented as its distance from India.\n"
   ]
  },
  {
   "cell_type": "markdown",
   "id": "81adca94",
   "metadata": {},
   "source": [
    "# 5. Describe the feature selection wrapper approach. State the advantages and disadvantages of this approach ?\n",
    "Ans: Wrapper methods measure the “usefulness” of features based on the classifier performance. In contrast, the filter methods pick up the intrinsic properties of the features (i.e., the “relevance” of the features) measured via univariate statistics instead of cross-validation performance.\n",
    "\n",
    "The wrapper classification algorithms with joint dimensionality reduction and classification can also be used but these methods have high computation cost, lower discriminative power. Moreover, these methods depend on the efficient selection of classifiers for obtaining high accuracy\n"
   ]
  },
  {
   "cell_type": "markdown",
   "id": "b570a511",
   "metadata": {},
   "source": [
    "# 6. When is a feature considered irrelevant? What can be said to quantify it ?\n",
    "Ans: Features are considered relevant if they are either strongly or weakly relevant, and are considered irrelevant otherwise.\n",
    "\n",
    "Irrelevant features can never contribute to prediction accuracy, by definition. Also to quantify it we need to first check the list of features, There are three types of feature selection:\n",
    "\n",
    "Wrapper methods (forward, backward, and stepwise selection)\n",
    "Filter methods (ANOVA, Pearson correlation, variance thresholding)\n",
    "Embedded methods (Lasso, Ridge, Decision Tree)."
   ]
  },
  {
   "cell_type": "markdown",
   "id": "0284506d",
   "metadata": {},
   "source": [
    "# 7. When is a function considered redundant? What criteria are used to identify features that could be redundant ?\n",
    "Ans: If two features {X1, X2} are highly correlated, then the two features become redundant features since they have same information in terms of correlation measure. In other words, the correlation measure provides statistical association between any given a pair of features.\n",
    "\n",
    "Minimum redundancy feature selection is an algorithm frequently used in a method to accurately identify characteristics of genes and phenotypes\n"
   ]
  },
  {
   "cell_type": "markdown",
   "id": "e8d25add",
   "metadata": {},
   "source": [
    "# 8. What are the various distance measurements used to determine feature similarity ?\n",
    "Ans: Four of the most commonly used distance measures in machine learning are as follows:\n",
    "\n",
    "Hamming Distance.\n",
    "Euclidean Distance\n",
    "Manhattan Distance."
   ]
  },
  {
   "cell_type": "markdown",
   "id": "aba0c784",
   "metadata": {},
   "source": [
    "# 9. State difference between Euclidean and Manhattan distances ?\n",
    "Ans: Euclidean & Hamming distances are used to measure similarity or dissimilarity between two sequences. Euclidean distance is extensively applied in analysis of convolutional codes and Trellis codes.\n",
    "\n",
    "Hamming distance is frequently encountered in the analysis of block codes.\n"
   ]
  },
  {
   "cell_type": "markdown",
   "id": "f21f72e3",
   "metadata": {},
   "source": [
    "# 10. Distinguish between feature transformation and feature selection ?\n",
    "Ans: Feature selection is for filtering irrelevant or redundant features from your dataset. The key difference between feature selection and extraction is that feature selection keeps a subset of the original features while feature extraction creates brand new ones."
   ]
  }
 ],
 "metadata": {
  "kernelspec": {
   "display_name": "Python 3 (ipykernel)",
   "language": "python",
   "name": "python3"
  },
  "language_info": {
   "codemirror_mode": {
    "name": "ipython",
    "version": 3
   },
   "file_extension": ".py",
   "mimetype": "text/x-python",
   "name": "python",
   "nbconvert_exporter": "python",
   "pygments_lexer": "ipython3",
   "version": "3.9.12"
  }
 },
 "nbformat": 4,
 "nbformat_minor": 5
}
